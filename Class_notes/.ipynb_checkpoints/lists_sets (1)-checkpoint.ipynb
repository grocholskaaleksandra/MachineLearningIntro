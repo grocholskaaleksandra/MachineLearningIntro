{
 "cells": [
  {
   "cell_type": "markdown",
   "metadata": {
    "id": "NMY9S_E2bHHY"
   },
   "source": [
    "01. List manipulation"
   ]
  },
  {
   "cell_type": "code",
   "execution_count": 1,
   "metadata": {
    "id": "JSD0EyPyZyDt"
   },
   "outputs": [
    {
     "ename": "AttributeError",
     "evalue": "'list' object has no attribute 'expand'",
     "output_type": "error",
     "traceback": [
      "\u001b[1;31m---------------------------------------------------------------------------\u001b[0m",
      "\u001b[1;31mAttributeError\u001b[0m                            Traceback (most recent call last)",
      "\u001b[1;32m<ipython-input-1-833e510657d3>\u001b[0m in \u001b[0;36m<module>\u001b[1;34m\u001b[0m\n\u001b[0;32m      4\u001b[0m \u001b[1;31m# b) Extend the fruit_names list with 2 vegatables\u001b[0m\u001b[1;33m\u001b[0m\u001b[1;33m\u001b[0m\u001b[1;33m\u001b[0m\u001b[0m\n\u001b[0;32m      5\u001b[0m \u001b[1;33m\u001b[0m\u001b[0m\n\u001b[1;32m----> 6\u001b[1;33m \u001b[0mfruit_names\u001b[0m\u001b[1;33m.\u001b[0m\u001b[0mexpand\u001b[0m \u001b[1;33m=\u001b[0m \u001b[1;33m[\u001b[0m\u001b[1;34m'carrot'\u001b[0m\u001b[1;33m,\u001b[0m \u001b[1;34m'zucchini'\u001b[0m\u001b[1;33m]\u001b[0m\u001b[1;33m\u001b[0m\u001b[1;33m\u001b[0m\u001b[0m\n\u001b[0m\u001b[0;32m      7\u001b[0m \u001b[1;33m\u001b[0m\u001b[0m\n\u001b[0;32m      8\u001b[0m \u001b[1;31m# c) Shuffle the list\u001b[0m\u001b[1;33m\u001b[0m\u001b[1;33m\u001b[0m\u001b[1;33m\u001b[0m\u001b[0m\n",
      "\u001b[1;31mAttributeError\u001b[0m: 'list' object has no attribute 'expand'"
     ]
    }
   ],
   "source": [
    "# a) Create a list with 5 fruit names\n",
    "fruit_names = ['banana', 'orange', 'apple', 'pear', 'strawberry']\n",
    "\n",
    "# b) Extend the fruit_names list with 2 vegatables\n",
    "\n",
    "fruit_veggies_names = fruit_names.extend = ['carrot', 'zucchini']\n",
    "\n",
    "# c) Shuffle the list\n",
    "\n",
    "# d) Find the position of first vegetable \n",
    "\n",
    "# e) Remove one fruit\n",
    "\n",
    "# f) Print the result\n",
    "\n",
    "# g) Sort the list in alphabetical order\n",
    "\n",
    "# h) Print each element of a list using a loop\n",
    "\n",
    "# i) Modify above code to be ablet to repeat all above steps \n",
    "#    to get the same results each time"
   ]
  },
  {
   "cell_type": "markdown",
   "metadata": {
    "id": "BcqjrBVhccip"
   },
   "source": [
    "02. Tuples"
   ]
  },
  {
   "cell_type": "code",
   "execution_count": null,
   "metadata": {
    "id": "yq9H77O5bbut"
   },
   "outputs": [],
   "source": [
    "first_list = [\"a\" + str(number) for number in range(1, 10)]\n",
    "second_list = [\"b\" + str(number) for number in range(1, 10)]\n",
    "\n",
    "# Pair up above lists\n",
    "# paired_list = \n",
    "\n",
    "# Using a loop unpack the tuple into variables: first_el, secodn_el\n",
    "# Print the pair position and variables using f-string.\n",
    "# Example:\n",
    "# \"Index of a3 and b3 is equal 2\""
   ]
  },
  {
   "cell_type": "markdown",
   "metadata": {
    "id": "NpK3h0cqfft9"
   },
   "source": [
    "3. Sets (unordered & unique data)"
   ]
  },
  {
   "cell_type": "code",
   "execution_count": null,
   "metadata": {
    "id": "KR9yn_XtfitI"
   },
   "outputs": [],
   "source": [
    "fake_names_1 = ['Sherry', 'Mary', 'Matthew', 'Danielle', 'Jeffrey', 'Lauren', \n",
    "              'Keith', 'Carlos', 'Monique', 'Laura', 'Jared', 'Valerie', 'Juan', \n",
    "              'Christopher', 'Erica', 'Dawn', 'Joshua', 'Brandon', 'Stephanie']\n",
    "\n",
    "fake_names_2 = ['Andre', 'Anthony', 'Lauren', 'Douglas', 'Jonathan', 'Richard', \n",
    "                'Alyssa', 'Vincent', 'Travis', 'Clifford', 'Jerry', 'Justin',\n",
    "                'Matthew', 'Jared', 'Erica']\n",
    "\n",
    "# Find the overlapping names in above lists\n",
    "\n",
    "# Print number of \"duplicated\" names\n",
    "\n",
    "# Find and print the union of above lists\n",
    "\n",
    "# Find and print the difference between lists"
   ]
  }
 ],
 "metadata": {
  "colab": {
   "collapsed_sections": [],
   "name": "data_types.ipynb",
   "provenance": []
  },
  "kernelspec": {
   "display_name": "Python 3",
   "language": "python",
   "name": "python3"
  },
  "language_info": {
   "codemirror_mode": {
    "name": "ipython",
    "version": 3
   },
   "file_extension": ".py",
   "mimetype": "text/x-python",
   "name": "python",
   "nbconvert_exporter": "python",
   "pygments_lexer": "ipython3",
   "version": "3.8.2"
  }
 },
 "nbformat": 4,
 "nbformat_minor": 1
}
