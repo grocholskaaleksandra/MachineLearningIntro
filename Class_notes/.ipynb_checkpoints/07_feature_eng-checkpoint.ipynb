{
 "cells": [
  {
   "cell_type": "code",
   "execution_count": null,
   "id": "d428da94",
   "metadata": {},
   "outputs": [],
   "source": [
    "#Encoding categorical features\n",
    "\n",
    "#Be aware of sparse matrices !\n",
    "#Missing categorical values -> KNN :)"
   ]
  },
  {
   "cell_type": "code",
   "execution_count": 1,
   "id": "adf4685d",
   "metadata": {},
   "outputs": [
    {
     "data": {
      "text/plain": [
       "array(['Lubuskie', 'Pomorskie', 'Slaskie', 'Wielkopolskie'], dtype='<U13')"
      ]
     },
     "execution_count": 1,
     "metadata": {},
     "output_type": "execute_result"
    }
   ],
   "source": [
    "import numpy as np\n",
    "import pandas as pd\n",
    "from sklearn.preprocessing import LabelBinarizer\n",
    "provinces = [\"Wielkopolskie\", \"Pomorskie\", \"Lubuskie\", \"Slaskie\"]\n",
    "label_binarizer = LabelBinarizer()\n",
    "province_labels = label_binarizer.fit_transform(provinces)\n",
    "province_labels\n",
    "label_binarizer.classes_\n"
   ]
  },
  {
   "cell_type": "code",
   "execution_count": 2,
   "id": "f49be78c",
   "metadata": {},
   "outputs": [
    {
     "data": {
      "text/html": [
       "<div>\n",
       "<style scoped>\n",
       "    .dataframe tbody tr th:only-of-type {\n",
       "        vertical-align: middle;\n",
       "    }\n",
       "\n",
       "    .dataframe tbody tr th {\n",
       "        vertical-align: top;\n",
       "    }\n",
       "\n",
       "    .dataframe thead th {\n",
       "        text-align: right;\n",
       "    }\n",
       "</style>\n",
       "<table border=\"1\" class=\"dataframe\">\n",
       "  <thead>\n",
       "    <tr style=\"text-align: right;\">\n",
       "      <th></th>\n",
       "      <th>Lubuskie</th>\n",
       "      <th>Pomorskie</th>\n",
       "      <th>Slaskie</th>\n",
       "      <th>Wielkopolskie</th>\n",
       "    </tr>\n",
       "  </thead>\n",
       "  <tbody>\n",
       "    <tr>\n",
       "      <th>0</th>\n",
       "      <td>0</td>\n",
       "      <td>0</td>\n",
       "      <td>0</td>\n",
       "      <td>1</td>\n",
       "    </tr>\n",
       "    <tr>\n",
       "      <th>1</th>\n",
       "      <td>0</td>\n",
       "      <td>1</td>\n",
       "      <td>0</td>\n",
       "      <td>0</td>\n",
       "    </tr>\n",
       "    <tr>\n",
       "      <th>2</th>\n",
       "      <td>1</td>\n",
       "      <td>0</td>\n",
       "      <td>0</td>\n",
       "      <td>0</td>\n",
       "    </tr>\n",
       "    <tr>\n",
       "      <th>3</th>\n",
       "      <td>0</td>\n",
       "      <td>0</td>\n",
       "      <td>1</td>\n",
       "      <td>0</td>\n",
       "    </tr>\n",
       "  </tbody>\n",
       "</table>\n",
       "</div>"
      ],
      "text/plain": [
       "   Lubuskie  Pomorskie  Slaskie  Wielkopolskie\n",
       "0         0          0        0              1\n",
       "1         0          1        0              0\n",
       "2         1          0        0              0\n",
       "3         0          0        1              0"
      ]
     },
     "execution_count": 2,
     "metadata": {},
     "output_type": "execute_result"
    }
   ],
   "source": [
    "pd.get_dummies(provinces)\n"
   ]
  },
  {
   "cell_type": "code",
   "execution_count": 3,
   "id": "1796f342",
   "metadata": {},
   "outputs": [
    {
     "data": {
      "text/plain": [
       "[('Wielkopolskie', 'Poznan'),\n",
       " ('Pomorskie', 'Gdansk'),\n",
       " ('Lubuskie', 'Lublin'),\n",
       " ('Slaskie', 'Katowice')]"
      ]
     },
     "execution_count": 3,
     "metadata": {},
     "output_type": "execute_result"
    }
   ],
   "source": [
    "from sklearn.preprocessing import MultiLabelBinarizer\n",
    "cities = [\"Poznan\", \"Gdansk\", \"Lublin\", \"Katowice\"]\n",
    "provs_and_cities = list(zip(provinces, cities))\n",
    "provs_and_cities\n"
   ]
  },
  {
   "cell_type": "code",
   "execution_count": 4,
   "id": "581b2eed",
   "metadata": {},
   "outputs": [
    {
     "data": {
      "text/plain": [
       "array([[0, 0, 0, 0, 0, 1, 0, 1],\n",
       "       [1, 0, 0, 0, 1, 0, 0, 0],\n",
       "       [0, 0, 1, 1, 0, 0, 0, 0],\n",
       "       [0, 1, 0, 0, 0, 0, 1, 0]])"
      ]
     },
     "execution_count": 4,
     "metadata": {},
     "output_type": "execute_result"
    }
   ],
   "source": [
    "multi_label_binarizer = MultiLabelBinarizer()\n",
    "multi_label_binarizer.fit_transform(provs_and_cities)\n"
   ]
  },
  {
   "cell_type": "code",
   "execution_count": null,
   "id": "c721dfd5",
   "metadata": {},
   "outputs": [],
   "source": [
    "# Encoding ordinal features\n"
   ]
  },
  {
   "cell_type": "code",
   "execution_count": 5,
   "id": "beb5f72f",
   "metadata": {},
   "outputs": [
    {
     "data": {
      "text/html": [
       "<div>\n",
       "<style scoped>\n",
       "    .dataframe tbody tr th:only-of-type {\n",
       "        vertical-align: middle;\n",
       "    }\n",
       "\n",
       "    .dataframe tbody tr th {\n",
       "        vertical-align: top;\n",
       "    }\n",
       "\n",
       "    .dataframe thead th {\n",
       "        text-align: right;\n",
       "    }\n",
       "</style>\n",
       "<table border=\"1\" class=\"dataframe\">\n",
       "  <thead>\n",
       "    <tr style=\"text-align: right;\">\n",
       "      <th></th>\n",
       "      <th>fruit</th>\n",
       "      <th>size</th>\n",
       "    </tr>\n",
       "  </thead>\n",
       "  <tbody>\n",
       "    <tr>\n",
       "      <th>0</th>\n",
       "      <td>apple</td>\n",
       "      <td>medium</td>\n",
       "    </tr>\n",
       "    <tr>\n",
       "      <th>1</th>\n",
       "      <td>orange</td>\n",
       "      <td>small</td>\n",
       "    </tr>\n",
       "    <tr>\n",
       "      <th>2</th>\n",
       "      <td>banana</td>\n",
       "      <td>large</td>\n",
       "    </tr>\n",
       "  </tbody>\n",
       "</table>\n",
       "</div>"
      ],
      "text/plain": [
       "    fruit    size\n",
       "0   apple  medium\n",
       "1  orange   small\n",
       "2  banana   large"
      ]
     },
     "execution_count": 5,
     "metadata": {},
     "output_type": "execute_result"
    }
   ],
   "source": [
    "import pandas as pd\n",
    "df = pd.DataFrame([['apple', 'medium'],\n",
    "                   ['orange', 'small'], \n",
    "                   ['banana', 'large']], \n",
    "                  columns=[\"fruit\", \"size\"])\n",
    "df"
   ]
  },
  {
   "cell_type": "code",
   "execution_count": 6,
   "id": "2b4d3daf",
   "metadata": {},
   "outputs": [
    {
     "data": {
      "text/html": [
       "<div>\n",
       "<style scoped>\n",
       "    .dataframe tbody tr th:only-of-type {\n",
       "        vertical-align: middle;\n",
       "    }\n",
       "\n",
       "    .dataframe tbody tr th {\n",
       "        vertical-align: top;\n",
       "    }\n",
       "\n",
       "    .dataframe thead th {\n",
       "        text-align: right;\n",
       "    }\n",
       "</style>\n",
       "<table border=\"1\" class=\"dataframe\">\n",
       "  <thead>\n",
       "    <tr style=\"text-align: right;\">\n",
       "      <th></th>\n",
       "      <th>fruit</th>\n",
       "      <th>size</th>\n",
       "    </tr>\n",
       "  </thead>\n",
       "  <tbody>\n",
       "    <tr>\n",
       "      <th>0</th>\n",
       "      <td>apple</td>\n",
       "      <td>2</td>\n",
       "    </tr>\n",
       "    <tr>\n",
       "      <th>1</th>\n",
       "      <td>orange</td>\n",
       "      <td>1</td>\n",
       "    </tr>\n",
       "    <tr>\n",
       "      <th>2</th>\n",
       "      <td>banana</td>\n",
       "      <td>3</td>\n",
       "    </tr>\n",
       "  </tbody>\n",
       "</table>\n",
       "</div>"
      ],
      "text/plain": [
       "    fruit  size\n",
       "0   apple     2\n",
       "1  orange     1\n",
       "2  banana     3"
      ]
     },
     "execution_count": 6,
     "metadata": {},
     "output_type": "execute_result"
    }
   ],
   "source": [
    "mapping_dict = {\"small\": 1,\n",
    "                \"large\": 3,\n",
    "                \"medium\": 2}\n",
    "# df['size'] = df['size'].map(mapping_dict)\n",
    "df['size'] = df['size'].replace(mapping_dict)\n",
    "df"
   ]
  },
  {
   "cell_type": "code",
   "execution_count": null,
   "id": "144ef5eb",
   "metadata": {},
   "outputs": [],
   "source": [
    "#Rescaling the data\n",
    "\n",
    "    #Log normalization np.log (check the columns variance)\n",
    "    #MinMaxScaler\n",
    "    #StandardScaler\n",
    "    #RobustScaler\n",
    "#To read:\n",
    "    #http://benalexkeen.com/feature-scaling-with-scikit-learn/\n",
    "    #https://scikit-learn.org/stable/auto_examples/preprocessing/plot_all_scaling.html\n"
   ]
  },
  {
   "cell_type": "code",
   "execution_count": null,
   "id": "bd17663c",
   "metadata": {},
   "outputs": [],
   "source": [
    "#Zadania\n",
    "\n",
    "#1. Znajdź różnice pomiędzy LabelEncoder, OHE, LabelBinerizer\n",
    "#2. Zamień wartości w kolumnach tekstowych na typ integer. Zastanów się nad wyborem kolummn.\n",
    "#3. Przeprowadź skalowanie/standaryzację danych numerycznych (pomiń te z pkt.2) i sprawdź wyniki.\n",
    "#4. Sprawdź też jaki wpływ ma standaryzacja na KNN, wykorzystany przy uzupełnianiu brakujących danych."
   ]
  }
 ],
 "metadata": {
  "kernelspec": {
   "display_name": "Python [conda env:Machine_Learning_intro] *",
   "language": "python",
   "name": "conda-env-Machine_Learning_intro-py"
  },
  "language_info": {
   "codemirror_mode": {
    "name": "ipython",
    "version": 3
   },
   "file_extension": ".py",
   "mimetype": "text/x-python",
   "name": "python",
   "nbconvert_exporter": "python",
   "pygments_lexer": "ipython3",
   "version": "3.8.2"
  }
 },
 "nbformat": 4,
 "nbformat_minor": 5
}
