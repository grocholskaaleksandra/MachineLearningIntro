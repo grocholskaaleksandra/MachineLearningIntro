{
 "cells": [
  {
   "cell_type": "code",
   "execution_count": null,
   "id": "b69e18cb",
   "metadata": {},
   "outputs": [],
   "source": [
    "#On line tool -> https://regex101.com/\n",
    "#Text source https://www.bbc.com/news/world-56844149\n",
    "#Most common paterns https://digitalfortress.tech/tricks/top-15-commonly-used-regex/"
   ]
  },
  {
   "cell_type": "code",
   "execution_count": 1,
   "id": "e7c6ce5e",
   "metadata": {},
   "outputs": [
    {
     "data": {
      "text/plain": [
       "[]"
      ]
     },
     "execution_count": 1,
     "metadata": {},
     "output_type": "execute_result"
    }
   ],
   "source": [
    "import re\n",
    "sentence = \"US pharmaceutical company Pfizer says it has identified counterfeit versions of its coronavirus vaccine in Mexico and Poland.\"\n",
    "sentence_ends = r\"[.!?]\"\n",
    "re.split(sentence_ends, sentence)\n",
    "re.findall(r\"\\d+\", sentence)\n"
   ]
  },
  {
   "cell_type": "code",
   "execution_count": 2,
   "id": "ae5e31b7",
   "metadata": {},
   "outputs": [
    {
     "data": {
      "text/plain": [
       "'US pharmaceutical company Pfizer says it has identified counterfeit versions of its coronavirus vaccine in Mexico and Poland.'"
      ]
     },
     "execution_count": 2,
     "metadata": {},
     "output_type": "execute_result"
    }
   ],
   "source": [
    "def make_upper(match):\n",
    "  return match.group().upper()\n",
    "re.sub('[a-z]*@', make_upper, sentence)"
   ]
  },
  {
   "cell_type": "code",
   "execution_count": null,
   "id": "f2566667",
   "metadata": {},
   "outputs": [],
   "source": [
    "#Zadania\n",
    "\n",
    "#1. Podziel sentence i porównaj wyniki (np. len ), wykrywając:\n",
    "#a) jedną spację\n",
    "#2) dwie i więcej\n",
    "#2. Znajdź numer telefonu.\n",
    "#3. Znajdź adres e-mail\n",
    "#4. Zamień tekst w adresie e-mail przed @ na wielkie litery, używając re.sub()\n",
    "#5. Znajdź wszyskie wyrazy, które zaczynają się wielką literą.\n",
    "#. Znajdz nazwy państw"
   ]
  },
  {
   "cell_type": "code",
   "execution_count": null,
   "id": "06281e13",
   "metadata": {},
   "outputs": [],
   "source": [
    "# Text preprocessing\n",
    "\n",
    "#Cleaning & removing unwanted characters and words.\n"
   ]
  },
  {
   "cell_type": "code",
   "execution_count": 3,
   "id": "ccdd2dee",
   "metadata": {},
   "outputs": [
    {
     "ename": "SyntaxError",
     "evalue": "invalid syntax (<ipython-input-3-3b3c051e43bf>, line 2)",
     "output_type": "error",
     "traceback": [
      "\u001b[1;36m  File \u001b[1;32m\"<ipython-input-3-3b3c051e43bf>\"\u001b[1;36m, line \u001b[1;32m2\u001b[0m\n\u001b[1;33m    sentence_no_stop_words = [word for word in ??? if word not in ???]\u001b[0m\n\u001b[1;37m                                               ^\u001b[0m\n\u001b[1;31mSyntaxError\u001b[0m\u001b[1;31m:\u001b[0m invalid syntax\n"
     ]
    }
   ],
   "source": [
    "from nltk.corpus import stopwords\n",
    "sentence_no_stop_words = [word for word in ??? if word not in ???]\n"
   ]
  },
  {
   "cell_type": "code",
   "execution_count": null,
   "id": "4757b86e",
   "metadata": {},
   "outputs": [],
   "source": [
    "#Other resources:\n",
    "#stop words: https://pypi.org/project/stop-words/\n",
    "#gensim: https://radimrehurek.com/gensim/parsing/preprocessing.html\n",
    "#spacy: https://github.com/explosion/spaCy/blob/master/spacy/lang/en/stop_words.py"
   ]
  },
  {
   "cell_type": "code",
   "execution_count": 4,
   "id": "7e91b311",
   "metadata": {},
   "outputs": [
    {
     "ename": "ModuleNotFoundError",
     "evalue": "No module named 'nltk'",
     "output_type": "error",
     "traceback": [
      "\u001b[1;31m---------------------------------------------------------------------------\u001b[0m",
      "\u001b[1;31mModuleNotFoundError\u001b[0m                       Traceback (most recent call last)",
      "\u001b[1;32m<ipython-input-4-0729c79716db>\u001b[0m in \u001b[0;36m<module>\u001b[1;34m\u001b[0m\n\u001b[1;32m----> 1\u001b[1;33m \u001b[1;32mimport\u001b[0m \u001b[0mnltk\u001b[0m\u001b[1;33m\u001b[0m\u001b[1;33m\u001b[0m\u001b[0m\n\u001b[0m\u001b[0;32m      2\u001b[0m \u001b[0mnltk\u001b[0m\u001b[1;33m.\u001b[0m\u001b[0mdownload\u001b[0m\u001b[1;33m(\u001b[0m\u001b[1;34m'stopwords'\u001b[0m\u001b[1;33m)\u001b[0m\u001b[1;33m\u001b[0m\u001b[1;33m\u001b[0m\u001b[0m\n\u001b[0;32m      3\u001b[0m \u001b[1;32mfrom\u001b[0m \u001b[0mnltk\u001b[0m\u001b[1;33m.\u001b[0m\u001b[0mcorpus\u001b[0m \u001b[1;32mimport\u001b[0m \u001b[0mstopwords\u001b[0m\u001b[1;33m\u001b[0m\u001b[1;33m\u001b[0m\u001b[0m\n\u001b[0;32m      4\u001b[0m \u001b[0mprint\u001b[0m\u001b[1;33m(\u001b[0m\u001b[0mlen\u001b[0m\u001b[1;33m(\u001b[0m\u001b[0mstopwords\u001b[0m\u001b[1;33m.\u001b[0m\u001b[0mwords\u001b[0m\u001b[1;33m(\u001b[0m\u001b[1;34m'english'\u001b[0m\u001b[1;33m)\u001b[0m\u001b[1;33m)\u001b[0m\u001b[1;33m)\u001b[0m\u001b[1;33m\u001b[0m\u001b[1;33m\u001b[0m\u001b[0m\n",
      "\u001b[1;31mModuleNotFoundError\u001b[0m: No module named 'nltk'"
     ]
    }
   ],
   "source": [
    " import nltk\n",
    " nltk.download('stopwords')\n",
    "from nltk.corpus import stopwords\n",
    "print(len(stopwords.words('english')))\n"
   ]
  },
  {
   "cell_type": "code",
   "execution_count": null,
   "id": "b8d41c14",
   "metadata": {},
   "outputs": [],
   "source": []
  }
 ],
 "metadata": {
  "kernelspec": {
   "display_name": "Python [conda env:Machine_Learning_intro] *",
   "language": "python",
   "name": "conda-env-Machine_Learning_intro-py"
  },
  "language_info": {
   "codemirror_mode": {
    "name": "ipython",
    "version": 3
   },
   "file_extension": ".py",
   "mimetype": "text/x-python",
   "name": "python",
   "nbconvert_exporter": "python",
   "pygments_lexer": "ipython3",
   "version": "3.8.2"
  }
 },
 "nbformat": 4,
 "nbformat_minor": 5
}
