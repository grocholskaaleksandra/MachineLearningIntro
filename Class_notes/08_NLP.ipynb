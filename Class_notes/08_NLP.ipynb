{
 "cells": [
  {
   "cell_type": "code",
   "execution_count": null,
   "id": "b69e18cb",
   "metadata": {},
   "outputs": [],
   "source": [
    "#On line tool -> https://regex101.com/\n",
    "#Text source https://www.bbc.com/news/world-56844149\n",
    "#Most common paterns https://digitalfortress.tech/tricks/top-15-commonly-used-regex/"
   ]
  },
  {
   "cell_type": "code",
   "execution_count": 2,
   "id": "e7c6ce5e",
   "metadata": {},
   "outputs": [
    {
     "data": {
      "text/plain": [
       "['US pharmaceutical company Pfizer says it has identified counterfeit versions of its coronavirus vaccine in Mexico and Poland',\n",
       " '']"
      ]
     },
     "execution_count": 2,
     "metadata": {},
     "output_type": "execute_result"
    }
   ],
   "source": [
    "import re\n",
    "sentence = \"US pharmaceutical company Pfizer says it has identified counterfeit versions of its coronavirus vaccine in Mexico and Poland.\"\n",
    "sentence_ends = r\"[.!?]\"\n",
    "re.split(sentence_ends, sentence)\n",
    "#re.findall(r\"\\d+\", sentence)\n"
   ]
  },
  {
   "cell_type": "code",
   "execution_count": 2,
   "id": "ae5e31b7",
   "metadata": {},
   "outputs": [
    {
     "data": {
      "text/plain": [
       "'US pharmaceutical company Pfizer says it has identified counterfeit versions of its coronavirus vaccine in Mexico and Poland.'"
      ]
     },
     "execution_count": 2,
     "metadata": {},
     "output_type": "execute_result"
    }
   ],
   "source": [
    "def make_upper(match):\n",
    "  return match.group().upper()\n",
    "re.sub('[a-z]*@', make_upper, sentence)"
   ]
  },
  {
   "cell_type": "code",
   "execution_count": 3,
   "id": "f2566667",
   "metadata": {},
   "outputs": [],
   "source": [
    "#Zadania\n",
    "\n",
    "#1. Podziel sentence i porównaj wyniki (np. len ), wykrywając:\n",
    "#a) jedną spację\n",
    "#2) dwie i więcej\n",
    "#2. Znajdź numer telefonu.\n",
    "#3. Znajdź adres e-mail\n",
    "#4. Zamień tekst w adresie e-mail przed @ na wielkie litery, używając re.sub()\n",
    "#5. Znajdź wszyskie wyrazy, które zaczynają się wielką literą.\n",
    "#. Znajdz nazwy państw"
   ]
  },
  {
   "cell_type": "code",
   "execution_count": 4,
   "id": "06281e13",
   "metadata": {},
   "outputs": [],
   "source": [
    "# Text preprocessing\n",
    "\n",
    "#Cleaning & removing unwanted characters and words.\n"
   ]
  },
  {
   "cell_type": "code",
   "execution_count": 5,
   "id": "ccdd2dee",
   "metadata": {},
   "outputs": [
    {
     "ename": "SyntaxError",
     "evalue": "invalid syntax (<ipython-input-5-3b3c051e43bf>, line 2)",
     "output_type": "error",
     "traceback": [
      "\u001b[1;36m  File \u001b[1;32m\"<ipython-input-5-3b3c051e43bf>\"\u001b[1;36m, line \u001b[1;32m2\u001b[0m\n\u001b[1;33m    sentence_no_stop_words = [word for word in ??? if word not in ???]\u001b[0m\n\u001b[1;37m                                               ^\u001b[0m\n\u001b[1;31mSyntaxError\u001b[0m\u001b[1;31m:\u001b[0m invalid syntax\n"
     ]
    }
   ],
   "source": [
    "from nltk.corpus import stopwords\n",
    "sentence_no_stop_words = [word for word in ??? if word not in ???]\n"
   ]
  },
  {
   "cell_type": "code",
   "execution_count": 6,
   "id": "4757b86e",
   "metadata": {},
   "outputs": [],
   "source": [
    "#Other resources:\n",
    "#stop words: https://pypi.org/project/stop-words/\n",
    "#gensim: https://radimrehurek.com/gensim/parsing/preprocessing.html\n",
    "#spacy: https://github.com/explosion/spaCy/blob/master/spacy/lang/en/stop_words.py"
   ]
  },
  {
   "cell_type": "code",
   "execution_count": 7,
   "id": "7e91b311",
   "metadata": {},
   "outputs": [
    {
     "name": "stdout",
     "output_type": "stream",
     "text": [
      "179\n"
     ]
    },
    {
     "name": "stderr",
     "output_type": "stream",
     "text": [
      "[nltk_data] Downloading package stopwords to\n",
      "[nltk_data]     C:\\Users\\Wladkowie\\AppData\\Roaming\\nltk_data...\n",
      "[nltk_data]   Unzipping corpora\\stopwords.zip.\n"
     ]
    }
   ],
   "source": [
    " import nltk\n",
    " nltk.download('stopwords')\n",
    "from nltk.corpus import stopwords\n",
    "print(len(stopwords.words('english')))\n"
   ]
  },
  {
   "cell_type": "code",
   "execution_count": 9,
   "id": "b8d41c14",
   "metadata": {},
   "outputs": [
    {
     "ename": "SyntaxError",
     "evalue": "invalid syntax (<ipython-input-9-e1eb9d49697a>, line 1)",
     "output_type": "error",
     "traceback": [
      "\u001b[1;36m  File \u001b[1;32m\"<ipython-input-9-e1eb9d49697a>\"\u001b[1;36m, line \u001b[1;32m1\u001b[0m\n\u001b[1;33m    sentence_elements = [word for word in re.split(\"\\W+\", sentence) if word.lower() not \" \".join(sentence_elements)\u001b[0m\n\u001b[1;37m                                                                                        ^\u001b[0m\n\u001b[1;31mSyntaxError\u001b[0m\u001b[1;31m:\u001b[0m invalid syntax\n"
     ]
    }
   ],
   "source": [
    "sentence_elements = [word for word in re.split(\"\\W+\", sentence) if word.lower() not \" \".join(sentence_elements)\n"
   ]
  },
  {
   "cell_type": "code",
   "execution_count": null,
   "id": "72b0d3a5",
   "metadata": {},
   "outputs": [],
   "source": [
    "#Tokenization\n",
    "#Changing text/sentences into tokens.\n",
    "\n",
    "#Bag of words (BoW)\n",
    "#Explanation: https://chrisalbon.com/machine_learning/preprocessing_text/bag_of_words/\n",
    "#Check also Bag of N-Grams"
   ]
  },
  {
   "cell_type": "code",
   "execution_count": null,
   "id": "1e6ce41a",
   "metadata": {},
   "outputs": [],
   "source": [
    "count_vect = CountVectorizer(ngram_range=(1,3))\n"
   ]
  },
  {
   "cell_type": "code",
   "execution_count": 10,
   "id": "249ac41c",
   "metadata": {},
   "outputs": [
    {
     "name": "stderr",
     "output_type": "stream",
     "text": [
      "[nltk_data] Downloading package punkt to\n",
      "[nltk_data]     C:\\Users\\Wladkowie\\AppData\\Roaming\\nltk_data...\n",
      "[nltk_data]   Unzipping tokenizers\\punkt.zip.\n"
     ]
    },
    {
     "data": {
      "text/plain": [
       "['Hello', 'world', '.', 'How', 'are', 'you', '?']"
      ]
     },
     "execution_count": 10,
     "metadata": {},
     "output_type": "execute_result"
    }
   ],
   "source": [
    " import nltk\n",
    " nltk.download('punkt')\n",
    "from nltk.tokenize import word_tokenize\n",
    "word_tokenize(\"Hello world. How are you?\")"
   ]
  },
  {
   "cell_type": "code",
   "execution_count": null,
   "id": "20539a4c",
   "metadata": {},
   "outputs": [],
   "source": [
    "import numpy as np\n",
    "import pandas as pd\n",
    "from sklearn.feature_extraction.text import CountVectorizer\n",
    "count_vector = CountVectorizer()\n",
    "example_sentence = np.array([\"I see trees of green, red roses too.\", \"I see them bl\n",
    "bag_of_words = count_vector.fit_transform(example_sentence)\n",
    "feature_names = count_vector.get_feature_names()\n",
    "pd.DataFrame(bag_of_words.toarray(), columns=feature_names)\n"
   ]
  },
  {
   "cell_type": "code",
   "execution_count": null,
   "id": "aa71aeb9",
   "metadata": {},
   "outputs": [],
   "source": [
    "#TF-IDF\n",
    "#Term frequency-inverse document frequency ( https://chrisalbon.com/machine_learning/preprocessing_text/tf-idf/)\n"
   ]
  },
  {
   "cell_type": "code",
   "execution_count": 11,
   "id": "08d90e8a",
   "metadata": {},
   "outputs": [],
   "source": [
    "from sklearn.feature_extraction.text import TfidfVectorizer"
   ]
  },
  {
   "cell_type": "code",
   "execution_count": 12,
   "id": "e10bf3c7",
   "metadata": {},
   "outputs": [
    {
     "ename": "NameError",
     "evalue": "name 'example_sentence' is not defined",
     "output_type": "error",
     "traceback": [
      "\u001b[1;31m---------------------------------------------------------------------------\u001b[0m",
      "\u001b[1;31mNameError\u001b[0m                                 Traceback (most recent call last)",
      "\u001b[1;32m<ipython-input-12-91cf941f5aea>\u001b[0m in \u001b[0;36m<module>\u001b[1;34m\u001b[0m\n\u001b[0;32m      1\u001b[0m \u001b[0mtfidf\u001b[0m \u001b[1;33m=\u001b[0m \u001b[0mTfidfVectorizer\u001b[0m\u001b[1;33m(\u001b[0m\u001b[1;33m)\u001b[0m\u001b[1;33m\u001b[0m\u001b[1;33m\u001b[0m\u001b[0m\n\u001b[1;32m----> 2\u001b[1;33m \u001b[0mfeature_matrix\u001b[0m \u001b[1;33m=\u001b[0m \u001b[0mtfidf\u001b[0m\u001b[1;33m.\u001b[0m\u001b[0mfit_transform\u001b[0m\u001b[1;33m(\u001b[0m\u001b[0mexample_sentence\u001b[0m\u001b[1;33m)\u001b[0m\u001b[1;33m\u001b[0m\u001b[1;33m\u001b[0m\u001b[0m\n\u001b[0m\u001b[0;32m      3\u001b[0m \u001b[0mpd\u001b[0m\u001b[1;33m.\u001b[0m\u001b[0mDataFrame\u001b[0m\u001b[1;33m(\u001b[0m\u001b[0mfeature_matrix\u001b[0m\u001b[1;33m.\u001b[0m\u001b[0mtoarray\u001b[0m\u001b[1;33m(\u001b[0m\u001b[1;33m)\u001b[0m\u001b[1;33m,\u001b[0m \u001b[0mcolumns\u001b[0m\u001b[1;33m=\u001b[0m\u001b[0mfeature_names\u001b[0m\u001b[1;33m)\u001b[0m\u001b[1;33m\u001b[0m\u001b[1;33m\u001b[0m\u001b[0m\n",
      "\u001b[1;31mNameError\u001b[0m: name 'example_sentence' is not defined"
     ]
    }
   ],
   "source": [
    "tfidf = TfidfVectorizer()\n",
    "feature_matrix = tfidf.fit_transform(example_sentence)\n",
    "pd.DataFrame(feature_matrix.toarray(), columns=feature_names)\n"
   ]
  },
  {
   "cell_type": "code",
   "execution_count": null,
   "id": "2a9569eb",
   "metadata": {},
   "outputs": [],
   "source": [
    "#Zadania\n",
    "\n",
    "#1. Wyczyść tekst\n",
    "#2. Podziel sentence na zdania, używając sent_tokenize .\n",
    "#3. Podziel drugie zdanie na słowa.\n",
    "#4. Utwórz BoW jako pd.DataFrame\n",
    "#5. Utwórz TF-IDF\n",
    "\n",
    "#Further study\n",
    "#1. Stemming & Lemmatisation\n",
    "#2. Gensim\n",
    "#3. Word2Vec\n",
    "#4. GloVe\n",
    "#5. fasttext\n",
    "#. and more...\n"
   ]
  }
 ],
 "metadata": {
  "kernelspec": {
   "display_name": "Python [conda env:Machine_Learning_intro] *",
   "language": "python",
   "name": "conda-env-Machine_Learning_intro-py"
  },
  "language_info": {
   "codemirror_mode": {
    "name": "ipython",
    "version": 3
   },
   "file_extension": ".py",
   "mimetype": "text/x-python",
   "name": "python",
   "nbconvert_exporter": "python",
   "pygments_lexer": "ipython3",
   "version": "3.8.2"
  }
 },
 "nbformat": 4,
 "nbformat_minor": 5
}
