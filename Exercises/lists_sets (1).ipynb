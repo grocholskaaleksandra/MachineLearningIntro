{
 "cells": [
  {
   "cell_type": "markdown",
   "metadata": {
    "id": "NMY9S_E2bHHY"
   },
   "source": [
    "01. List manipulation"
   ]
  },
  {
   "cell_type": "code",
   "execution_count": 45,
   "metadata": {
    "id": "JSD0EyPyZyDt"
   },
   "outputs": [
    {
     "name": "stdout",
     "output_type": "stream",
     "text": [
      "Fruit list: ['banana', 'orange', 'apple', 'pear', 'strawberry']\n",
      "\n",
      "Extended fruit and veggies list: ['carrot', 'zucchini', 'banana', 'orange', 'apple', 'pear', 'strawberry']\n",
      "\n",
      "Shuffled list: ['banana', 'strawberry', 'carrot', 'zucchini', 'orange', 'pear', 'apple']\n",
      "\n",
      "Position of carrot is 3 on the shuffled list\n",
      "\n",
      "Updated fruit and veggies list: ['strawberry', 'carrot', 'zucchini', 'orange', 'pear', 'apple']\n",
      "\n",
      "Sorted list: ['apple', 'carrot', 'orange', 'pear', 'strawberry', 'zucchini']\n",
      "\n",
      "Elements printed using a loop: \n",
      "apple\n",
      "carrot\n",
      "orange\n",
      "pear\n",
      "strawberry\n",
      "zucchini\n"
     ]
    }
   ],
   "source": [
    "import random\n",
    "\n",
    "\n",
    "# a) Create a list with 5 fruit names\n",
    "fruit_names = ['banana', 'orange', 'apple', 'pear', 'strawberry']\n",
    "print('Fruit list: ' + str(fruit_names))\n",
    "\n",
    "# b) Extend the fruit_names list with 2 vegatables\n",
    "\n",
    "veggies_names = ['carrot', 'zucchini']\n",
    "fruit_and_veggies_names = []\n",
    "fruit_and_veggies_names = (veggies_names + fruit_names)\n",
    "print('\\nExtended fruit and veggies list: ' + str(fruit_and_veggies_names))\n",
    "\n",
    "# c) Shuffle the list\n",
    "\n",
    "random.shuffle(fruit_and_veggies_names)\n",
    "print('\\nShuffled list: ' + str(fruit_and_veggies_names))\n",
    "\n",
    "# d) Find the position of first vegetable \n",
    "\n",
    "x = fruit_and_veggies_names.index(veggies_names[0])\n",
    "print('\\nPosition of '+ str(veggies_names[0]) + ' is ' + str(x+1) + ' on the shuffled list')\n",
    "\n",
    "\n",
    "# e) Remove one fruit\n",
    "# f) Print the result\n",
    "fruit_and_veggies_names.remove('banana')\n",
    "print('\\nUpdated fruit and veggies list: ' + str(fruit_and_veggies_names))\n",
    "\n",
    "\n",
    "# g) Sort the list in alphabetical order\n",
    "\n",
    "sorted_list = sorted(fruit_and_veggies_names)\n",
    "print('\\nSorted list: ' + str(sorted_list))\n",
    "\n",
    "\n",
    "# h) Print each element of a list using a loop\n",
    "print('\\nElements printed using a loop: ')\n",
    "for i in sorted_list:\n",
    "    print (i)\n",
    "\n",
    "# i) Modify above code to be ablet to repeat all above steps \n",
    "#    to get the same results each time\n",
    "\n",
    "#Is it possible to get the same result each time if we shuffle the list randomly? \n",
    "#In current implementation I am able to have the only same results final results "
   ]
  },
  {
   "cell_type": "markdown",
   "metadata": {
    "id": "BcqjrBVhccip"
   },
   "source": [
    "02. Tuples"
   ]
  },
  {
   "cell_type": "code",
   "execution_count": 58,
   "metadata": {
    "id": "yq9H77O5bbut"
   },
   "outputs": [
    {
     "name": "stdout",
     "output_type": "stream",
     "text": [
      "['a1', 'a2', 'a3', 'a4', 'a5', 'a6', 'a7', 'a8', 'a9']\n",
      "['b1', 'b2', 'b3', 'b4', 'b5', 'b6', 'b7', 'b8', 'b9']\n",
      "[['a1', 'b1'], ['a2', 'b2'], ['a3', 'b3'], ['a4', 'b4'], ['a5', 'b5'], ['a6', 'b6'], ['a7', 'b7'], ['a8', 'b8'], ['a9', 'b9']]\n",
      "Index of a1 and b1 is equal 0\n",
      "Index of a2 and b2 is equal 1\n",
      "Index of a3 and b3 is equal 2\n",
      "Index of a4 and b4 is equal 3\n",
      "Index of a5 and b5 is equal 4\n",
      "Index of a6 and b6 is equal 5\n",
      "Index of a7 and b7 is equal 6\n",
      "Index of a8 and b8 is equal 7\n",
      "Index of a9 and b9 is equal 8\n"
     ]
    }
   ],
   "source": [
    "first_list = [\"a\" + str(number) for number in range(1, 10)]\n",
    "second_list = [\"b\" + str(number) for number in range(1, 10)]\n",
    "print(first_list)\n",
    "print(second_list)\n",
    "\n",
    "# Pair up above lists\n",
    "paired_list =[[x, y] for x, y in zip(first_list, second_list)]\n",
    "print(paired_list)\n",
    "\n",
    "\n",
    "# Using a loop unpack the tuple into variables: first_el, secodn_el\n",
    "# Print the pair position and variables using f-string.\n",
    "# Example:\n",
    "# \"Index of a3 and b3 is equal 2\"\n",
    "\n",
    "for index, tuple in enumerate(paired_list):\n",
    "    first_el = tuple[0]\n",
    "    secodn_el = tuple [1]\n",
    "    print(f\"Index of {first_el} and {secodn_el} is equal {index}\")\n"
   ]
  },
  {
   "cell_type": "markdown",
   "metadata": {
    "id": "NpK3h0cqfft9"
   },
   "source": [
    "3. Sets (unordered & unique data)"
   ]
  },
  {
   "cell_type": "code",
   "execution_count": 67,
   "metadata": {
    "id": "KR9yn_XtfitI"
   },
   "outputs": [
    {
     "name": "stdout",
     "output_type": "stream",
     "text": [
      "['Matthew', 'Jared', 'Erica', 'Lauren']\n",
      "4\n",
      "['Sherry', 'Mary', 'Matthew', 'Danielle', 'Jeffrey', 'Lauren', 'Keith', 'Carlos', 'Monique', 'Laura', 'Jared', 'Valerie', 'Juan', 'Christopher', 'Erica', 'Dawn', 'Joshua', 'Brandon', 'Stephanie', 'Andre', 'Anthony', 'Douglas', 'Jonathan', 'Richard', 'Alyssa', 'Vincent', 'Travis', 'Clifford', 'Jerry', 'Justin']\n",
      "{'Valerie', 'Jeffrey', 'Danielle', 'Christopher', 'Dawn', 'Keith', 'Monique', 'Stephanie', 'Joshua', 'Sherry', 'Carlos', 'Laura', 'Brandon', 'Juan', 'Mary'}\n"
     ]
    }
   ],
   "source": [
    "fake_names_1 = ['Sherry', 'Mary', 'Matthew', 'Danielle', 'Jeffrey', 'Lauren', \n",
    "              'Keith', 'Carlos', 'Monique', 'Laura', 'Jared', 'Valerie', 'Juan', \n",
    "              'Christopher', 'Erica', 'Dawn', 'Joshua', 'Brandon', 'Stephanie']\n",
    "\n",
    "fake_names_2 = ['Andre', 'Anthony', 'Lauren', 'Douglas', 'Jonathan', 'Richard', \n",
    "                'Alyssa', 'Vincent', 'Travis', 'Clifford', 'Jerry', 'Justin',\n",
    "                'Matthew', 'Jared', 'Erica']\n",
    "\n",
    "# Find the overlapping names in above lists\n",
    "\n",
    "duplicated_names = list(set(fake_names_1) & set(fake_names_2))\n",
    "print(duplicated_names)\n",
    "\n",
    "# Print number of \"duplicated\" names\n",
    "print(len(duplicated_names))\n",
    "\n",
    "# Find and print the union of above lists\n",
    "\n",
    "union_names = fake_names_1 + fake_names_2\n",
    "union_names = list(dict.fromkeys(union_names))\n",
    "print(union_names)\n",
    "\n",
    "\n",
    "# Find and print the difference between lists\n",
    "difference_names = set(fake_names_1) - set(fake_names_2)\n",
    "print(difference_names)"
   ]
  },
  {
   "cell_type": "code",
   "execution_count": null,
   "metadata": {},
   "outputs": [],
   "source": []
  }
 ],
 "metadata": {
  "colab": {
   "collapsed_sections": [],
   "name": "data_types.ipynb",
   "provenance": []
  },
  "kernelspec": {
   "display_name": "Python 3",
   "language": "python",
   "name": "python3"
  },
  "language_info": {
   "codemirror_mode": {
    "name": "ipython",
    "version": 3
   },
   "file_extension": ".py",
   "mimetype": "text/x-python",
   "name": "python",
   "nbconvert_exporter": "python",
   "pygments_lexer": "ipython3",
   "version": "3.8.2"
  }
 },
 "nbformat": 4,
 "nbformat_minor": 1
}
